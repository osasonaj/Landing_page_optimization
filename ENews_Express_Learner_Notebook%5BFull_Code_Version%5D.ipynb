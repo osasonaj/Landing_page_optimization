{
 "cells": [
  {
   "cell_type": "markdown",
   "id": "6yDxo9u0d9Na",
   "metadata": {
    "id": "6yDxo9u0d9Na"
   },
   "source": [
    "# Project Business Statistics: E-news Express\n",
    "\n",
    "**Marks: 60**"
   ]
  },
  {
   "cell_type": "markdown",
   "id": "SrLd-ICEmPSD",
   "metadata": {
    "id": "SrLd-ICEmPSD"
   },
   "source": [
    "## Define Problem Statement and Objectives"
   ]
  },
  {
   "cell_type": "markdown",
   "id": "9Vt1PLLqmXNn",
   "metadata": {
    "id": "9Vt1PLLqmXNn"
   },
   "source": [
    "### **Business Context**\n",
    "\n",
    "The advent of e-news, or electronic news, portals has offered us a great opportunity to quickly get updates on the day-to-day events occurring globally. The information on these portals is retrieved electronically from online databases, processed using a variety of software, and then transmitted to the users. There are multiple advantages of transmitting new electronically, like faster access to the content and the ability to utilize different technologies such as audio, graphics, video, and other interactive elements that are either not being used or aren’t common yet in traditional newspapers.\n",
    "\n",
    "E-news Express, an online news portal, aims to expand its business by acquiring new subscribers. With every visitor to the website taking certain actions based on their interest, the company plans to analyze these actions to understand user interests and determine how to drive better engagement. The executives at E-news Express are of the opinion that there has been a decline in new monthly subscribers compared to the past year because the current webpage is not designed well enough in terms of the outline & recommended content to keep customers engaged long enough to make a decision to subscribe.\n",
    "\n",
    "[Companies often analyze user responses to two variants of a product to decide which of the two variants is more effective. This experimental technique, known as A/B testing, is used to determine whether a new feature attracts users based on a chosen metric.]\n",
    "\n",
    "### **Objective**\n",
    "\n",
    "The design team of the company has researched and created a new landing page that has a new outline & more relevant content shown compared to the old page. In order to test the effectiveness of the new landing page in gathering new subscribers, the Data Science team conducted an experiment by randomly selecting 100 users and dividing them equally into two groups. The existing landing page was served to the first group (control group) and the new landing page to the second group (treatment group). Data regarding the interaction of users in both groups with the two versions of the landing page was collected. Being a data scientist in E-news Express, you have been asked to explore the data and perform a statistical analysis (at a significance level of 5%) to determine the effectiveness of the new landing page in gathering new subscribers for the news portal by answering the following questions:\n",
    "\n",
    "1) Do the users spend more time on the new landing page than on the existing landing page?\n",
    "\n",
    "2) Is the conversion rate (the proportion of users who visit the landing page and get converted) for the new page greater than the conversion rate for the old page?\n",
    "\n",
    "3) Does the converted status depend on the preferred language?\n",
    "\n",
    "4) Is the time spent on the new page the same for the different language users?\n",
    "\n",
    "### **Data Dictionary**\n",
    "\n",
    "The data contains information regarding the interaction of users in both groups with the two versions of the landing page.\n",
    "\n",
    "* **user_id** - Unique user ID of the person visiting the website\n",
    "* **group** - Whether the user belongs to the first group (control) or the second group (treatment)\n",
    "* **landing_page** - Whether the landing page is new or old\n",
    "* **time_spent_on_the_page** - Time (in minutes) spent by the user on the landing page\n",
    "* **converted** - Whether the user gets converted to a subscriber of the news portal or not\n",
    "* **language_preferred** - Language chosen by the user to view the landing page"
   ]
  },
  {
   "cell_type": "markdown",
   "id": "a6a3d218",
   "metadata": {
    "id": "a6a3d218"
   },
   "source": [
    "## Import all the necessary libraries"
   ]
  },
  {
   "cell_type": "code",
   "execution_count": 1,
   "id": "658c5dec",
   "metadata": {
    "id": "658c5dec"
   },
   "outputs": [],
   "source": [
    "# import libraries for data manipulation\n",
    "import numpy as np\n",
    "import pandas as pd\n",
    "\n",
    "# import libraries for data visualization\n",
    "import matplotlib.pyplot as plt\n",
    "import seaborn as sns"
   ]
  },
  {
   "cell_type": "markdown",
   "id": "6970dd99",
   "metadata": {
    "id": "6970dd99"
   },
   "source": [
    "## Reading the Data into a DataFrame"
   ]
  },
  {
   "cell_type": "code",
   "execution_count": 2,
   "id": "d3b95640",
   "metadata": {
    "id": "d3b95640"
   },
   "outputs": [],
   "source": [
    "df = pd.read_csv('abtest.csv')"
   ]
  },
  {
   "cell_type": "markdown",
   "id": "9d75cfa2",
   "metadata": {
    "id": "9d75cfa2"
   },
   "source": [
    "## Explore the dataset and extract insights using Exploratory Data Analysis"
   ]
  },
  {
   "cell_type": "markdown",
   "id": "27201534",
   "metadata": {
    "id": "27201534"
   },
   "source": [
    "- Data Overview\n",
    "  - Viewing the first and last few rows of the dataset\n",
    "  - Checking the shape of the dataset\n",
    "  - Getting the statistical summary for the variables\n",
    "- Check for missing values\n",
    "- Check for duplicates"
   ]
  },
  {
   "cell_type": "markdown",
   "id": "4f607dd2",
   "metadata": {},
   "source": [
    "### Viewing the first and last few rows of the dataset"
   ]
  },
  {
   "cell_type": "code",
   "execution_count": 3,
   "id": "e1ad11d4",
   "metadata": {
    "id": "e1ad11d4"
   },
   "outputs": [
    {
     "data": {
      "text/html": [
       "<div>\n",
       "<style scoped>\n",
       "    .dataframe tbody tr th:only-of-type {\n",
       "        vertical-align: middle;\n",
       "    }\n",
       "\n",
       "    .dataframe tbody tr th {\n",
       "        vertical-align: top;\n",
       "    }\n",
       "\n",
       "    .dataframe thead th {\n",
       "        text-align: right;\n",
       "    }\n",
       "</style>\n",
       "<table border=\"1\" class=\"dataframe\">\n",
       "  <thead>\n",
       "    <tr style=\"text-align: right;\">\n",
       "      <th></th>\n",
       "      <th>user_id</th>\n",
       "      <th>group</th>\n",
       "      <th>landing_page</th>\n",
       "      <th>time_spent_on_the_page</th>\n",
       "      <th>converted</th>\n",
       "      <th>language_preferred</th>\n",
       "    </tr>\n",
       "  </thead>\n",
       "  <tbody>\n",
       "    <tr>\n",
       "      <th>0</th>\n",
       "      <td>546592</td>\n",
       "      <td>control</td>\n",
       "      <td>old</td>\n",
       "      <td>3.48</td>\n",
       "      <td>no</td>\n",
       "      <td>Spanish</td>\n",
       "    </tr>\n",
       "    <tr>\n",
       "      <th>1</th>\n",
       "      <td>546468</td>\n",
       "      <td>treatment</td>\n",
       "      <td>new</td>\n",
       "      <td>7.13</td>\n",
       "      <td>yes</td>\n",
       "      <td>English</td>\n",
       "    </tr>\n",
       "    <tr>\n",
       "      <th>2</th>\n",
       "      <td>546462</td>\n",
       "      <td>treatment</td>\n",
       "      <td>new</td>\n",
       "      <td>4.40</td>\n",
       "      <td>no</td>\n",
       "      <td>Spanish</td>\n",
       "    </tr>\n",
       "    <tr>\n",
       "      <th>3</th>\n",
       "      <td>546567</td>\n",
       "      <td>control</td>\n",
       "      <td>old</td>\n",
       "      <td>3.02</td>\n",
       "      <td>no</td>\n",
       "      <td>French</td>\n",
       "    </tr>\n",
       "    <tr>\n",
       "      <th>4</th>\n",
       "      <td>546459</td>\n",
       "      <td>treatment</td>\n",
       "      <td>new</td>\n",
       "      <td>4.75</td>\n",
       "      <td>yes</td>\n",
       "      <td>Spanish</td>\n",
       "    </tr>\n",
       "  </tbody>\n",
       "</table>\n",
       "</div>"
      ],
      "text/plain": [
       "   user_id      group landing_page  time_spent_on_the_page converted  \\\n",
       "0   546592    control          old                    3.48        no   \n",
       "1   546468  treatment          new                    7.13       yes   \n",
       "2   546462  treatment          new                    4.40        no   \n",
       "3   546567    control          old                    3.02        no   \n",
       "4   546459  treatment          new                    4.75       yes   \n",
       "\n",
       "  language_preferred  \n",
       "0            Spanish  \n",
       "1            English  \n",
       "2            Spanish  \n",
       "3             French  \n",
       "4            Spanish  "
      ]
     },
     "execution_count": 3,
     "metadata": {},
     "output_type": "execute_result"
    }
   ],
   "source": [
    "# returns the first 5 rows\n",
    "df.head()"
   ]
  },
  {
   "cell_type": "code",
   "execution_count": 4,
   "id": "af20d8c7",
   "metadata": {},
   "outputs": [
    {
     "data": {
      "text/html": [
       "<div>\n",
       "<style scoped>\n",
       "    .dataframe tbody tr th:only-of-type {\n",
       "        vertical-align: middle;\n",
       "    }\n",
       "\n",
       "    .dataframe tbody tr th {\n",
       "        vertical-align: top;\n",
       "    }\n",
       "\n",
       "    .dataframe thead th {\n",
       "        text-align: right;\n",
       "    }\n",
       "</style>\n",
       "<table border=\"1\" class=\"dataframe\">\n",
       "  <thead>\n",
       "    <tr style=\"text-align: right;\">\n",
       "      <th></th>\n",
       "      <th>user_id</th>\n",
       "      <th>group</th>\n",
       "      <th>landing_page</th>\n",
       "      <th>time_spent_on_the_page</th>\n",
       "      <th>converted</th>\n",
       "      <th>language_preferred</th>\n",
       "    </tr>\n",
       "  </thead>\n",
       "  <tbody>\n",
       "    <tr>\n",
       "      <th>95</th>\n",
       "      <td>546446</td>\n",
       "      <td>treatment</td>\n",
       "      <td>new</td>\n",
       "      <td>5.15</td>\n",
       "      <td>no</td>\n",
       "      <td>Spanish</td>\n",
       "    </tr>\n",
       "    <tr>\n",
       "      <th>96</th>\n",
       "      <td>546544</td>\n",
       "      <td>control</td>\n",
       "      <td>old</td>\n",
       "      <td>6.52</td>\n",
       "      <td>yes</td>\n",
       "      <td>English</td>\n",
       "    </tr>\n",
       "    <tr>\n",
       "      <th>97</th>\n",
       "      <td>546472</td>\n",
       "      <td>treatment</td>\n",
       "      <td>new</td>\n",
       "      <td>7.07</td>\n",
       "      <td>yes</td>\n",
       "      <td>Spanish</td>\n",
       "    </tr>\n",
       "    <tr>\n",
       "      <th>98</th>\n",
       "      <td>546481</td>\n",
       "      <td>treatment</td>\n",
       "      <td>new</td>\n",
       "      <td>6.20</td>\n",
       "      <td>yes</td>\n",
       "      <td>Spanish</td>\n",
       "    </tr>\n",
       "    <tr>\n",
       "      <th>99</th>\n",
       "      <td>546483</td>\n",
       "      <td>treatment</td>\n",
       "      <td>new</td>\n",
       "      <td>5.86</td>\n",
       "      <td>yes</td>\n",
       "      <td>English</td>\n",
       "    </tr>\n",
       "  </tbody>\n",
       "</table>\n",
       "</div>"
      ],
      "text/plain": [
       "    user_id      group landing_page  time_spent_on_the_page converted  \\\n",
       "95   546446  treatment          new                    5.15        no   \n",
       "96   546544    control          old                    6.52       yes   \n",
       "97   546472  treatment          new                    7.07       yes   \n",
       "98   546481  treatment          new                    6.20       yes   \n",
       "99   546483  treatment          new                    5.86       yes   \n",
       "\n",
       "   language_preferred  \n",
       "95            Spanish  \n",
       "96            English  \n",
       "97            Spanish  \n",
       "98            Spanish  \n",
       "99            English  "
      ]
     },
     "execution_count": 4,
     "metadata": {},
     "output_type": "execute_result"
    }
   ],
   "source": [
    "# returns the last 5 rows\n",
    "df.tail()"
   ]
  },
  {
   "cell_type": "markdown",
   "id": "a3a17431",
   "metadata": {},
   "source": [
    "Observations: The dataframe has 6 columns as mentioned in the Data Dictionary. Data in each row corresponds to user interactions for the landing pages."
   ]
  },
  {
   "cell_type": "markdown",
   "id": "8afed1d4",
   "metadata": {},
   "source": [
    "### Checking the shape of the data."
   ]
  },
  {
   "cell_type": "code",
   "execution_count": 5,
   "id": "2d653a64",
   "metadata": {},
   "outputs": [
    {
     "name": "stdout",
     "output_type": "stream",
     "text": [
      "Number of rows: 100\n",
      "Number of columns: 6\n"
     ]
    }
   ],
   "source": [
    "# Let's look at the shape of the dataset\n",
    "rows = df.shape[0]\n",
    "cols = df.shape[1]\n",
    "print(f'Number of rows: {rows}\\nNumber of columns: {cols}')"
   ]
  },
  {
   "cell_type": "markdown",
   "id": "e5447626",
   "metadata": {},
   "source": [
    "Observations: There are 100 rows and 6 columns within the dataframe"
   ]
  },
  {
   "cell_type": "code",
   "execution_count": 6,
   "id": "e85d1537",
   "metadata": {},
   "outputs": [
    {
     "name": "stdout",
     "output_type": "stream",
     "text": [
      "<class 'pandas.core.frame.DataFrame'>\n",
      "RangeIndex: 100 entries, 0 to 99\n",
      "Data columns (total 6 columns):\n",
      " #   Column                  Non-Null Count  Dtype  \n",
      "---  ------                  --------------  -----  \n",
      " 0   user_id                 100 non-null    int64  \n",
      " 1   group                   100 non-null    object \n",
      " 2   landing_page            100 non-null    object \n",
      " 3   time_spent_on_the_page  100 non-null    float64\n",
      " 4   converted               100 non-null    object \n",
      " 5   language_preferred      100 non-null    object \n",
      "dtypes: float64(1), int64(1), object(4)\n",
      "memory usage: 4.8+ KB\n"
     ]
    }
   ],
   "source": [
    "# Let's print a concise summary of the DataFrame\n",
    "df.info()"
   ]
  },
  {
   "cell_type": "markdown",
   "id": "42737a72",
   "metadata": {},
   "source": [
    "Observations:\n",
    "* There are 2 numerical columns (1 integer and 1 float datatype) and 4 object-datatype columns within the dataset.\n",
    "* The 'user_id' column is read as an integer datatype but has no numerical implications being that it's a unique identifier."
   ]
  },
  {
   "cell_type": "markdown",
   "id": "1176e36e",
   "metadata": {},
   "source": [
    "### Getting the statistical summary of the variables."
   ]
  },
  {
   "cell_type": "code",
   "execution_count": 7,
   "id": "b4facb5e",
   "metadata": {},
   "outputs": [
    {
     "data": {
      "text/html": [
       "<div>\n",
       "<style scoped>\n",
       "    .dataframe tbody tr th:only-of-type {\n",
       "        vertical-align: middle;\n",
       "    }\n",
       "\n",
       "    .dataframe tbody tr th {\n",
       "        vertical-align: top;\n",
       "    }\n",
       "\n",
       "    .dataframe thead th {\n",
       "        text-align: right;\n",
       "    }\n",
       "</style>\n",
       "<table border=\"1\" class=\"dataframe\">\n",
       "  <thead>\n",
       "    <tr style=\"text-align: right;\">\n",
       "      <th></th>\n",
       "      <th>count</th>\n",
       "      <th>unique</th>\n",
       "      <th>top</th>\n",
       "      <th>freq</th>\n",
       "      <th>mean</th>\n",
       "      <th>std</th>\n",
       "      <th>min</th>\n",
       "      <th>25%</th>\n",
       "      <th>50%</th>\n",
       "      <th>75%</th>\n",
       "      <th>max</th>\n",
       "    </tr>\n",
       "  </thead>\n",
       "  <tbody>\n",
       "    <tr>\n",
       "      <th>user_id</th>\n",
       "      <td>100.00</td>\n",
       "      <td>NaN</td>\n",
       "      <td>NaN</td>\n",
       "      <td>NaN</td>\n",
       "      <td>546517.00</td>\n",
       "      <td>52.30</td>\n",
       "      <td>546443.00</td>\n",
       "      <td>546467.75</td>\n",
       "      <td>546492.50</td>\n",
       "      <td>546567.25</td>\n",
       "      <td>546592.00</td>\n",
       "    </tr>\n",
       "    <tr>\n",
       "      <th>group</th>\n",
       "      <td>100</td>\n",
       "      <td>2</td>\n",
       "      <td>control</td>\n",
       "      <td>50</td>\n",
       "      <td>NaN</td>\n",
       "      <td>NaN</td>\n",
       "      <td>NaN</td>\n",
       "      <td>NaN</td>\n",
       "      <td>NaN</td>\n",
       "      <td>NaN</td>\n",
       "      <td>NaN</td>\n",
       "    </tr>\n",
       "    <tr>\n",
       "      <th>landing_page</th>\n",
       "      <td>100</td>\n",
       "      <td>2</td>\n",
       "      <td>old</td>\n",
       "      <td>50</td>\n",
       "      <td>NaN</td>\n",
       "      <td>NaN</td>\n",
       "      <td>NaN</td>\n",
       "      <td>NaN</td>\n",
       "      <td>NaN</td>\n",
       "      <td>NaN</td>\n",
       "      <td>NaN</td>\n",
       "    </tr>\n",
       "    <tr>\n",
       "      <th>time_spent_on_the_page</th>\n",
       "      <td>100.00</td>\n",
       "      <td>NaN</td>\n",
       "      <td>NaN</td>\n",
       "      <td>NaN</td>\n",
       "      <td>5.38</td>\n",
       "      <td>2.38</td>\n",
       "      <td>0.19</td>\n",
       "      <td>3.88</td>\n",
       "      <td>5.42</td>\n",
       "      <td>7.02</td>\n",
       "      <td>10.71</td>\n",
       "    </tr>\n",
       "    <tr>\n",
       "      <th>converted</th>\n",
       "      <td>100</td>\n",
       "      <td>2</td>\n",
       "      <td>yes</td>\n",
       "      <td>54</td>\n",
       "      <td>NaN</td>\n",
       "      <td>NaN</td>\n",
       "      <td>NaN</td>\n",
       "      <td>NaN</td>\n",
       "      <td>NaN</td>\n",
       "      <td>NaN</td>\n",
       "      <td>NaN</td>\n",
       "    </tr>\n",
       "    <tr>\n",
       "      <th>language_preferred</th>\n",
       "      <td>100</td>\n",
       "      <td>3</td>\n",
       "      <td>Spanish</td>\n",
       "      <td>34</td>\n",
       "      <td>NaN</td>\n",
       "      <td>NaN</td>\n",
       "      <td>NaN</td>\n",
       "      <td>NaN</td>\n",
       "      <td>NaN</td>\n",
       "      <td>NaN</td>\n",
       "      <td>NaN</td>\n",
       "    </tr>\n",
       "  </tbody>\n",
       "</table>\n",
       "</div>"
      ],
      "text/plain": [
       "                        count unique      top freq      mean   std       min  \\\n",
       "user_id                100.00    NaN      NaN  NaN 546517.00 52.30 546443.00   \n",
       "group                     100      2  control   50       NaN   NaN       NaN   \n",
       "landing_page              100      2      old   50       NaN   NaN       NaN   \n",
       "time_spent_on_the_page 100.00    NaN      NaN  NaN      5.38  2.38      0.19   \n",
       "converted                 100      2      yes   54       NaN   NaN       NaN   \n",
       "language_preferred        100      3  Spanish   34       NaN   NaN       NaN   \n",
       "\n",
       "                             25%       50%       75%       max  \n",
       "user_id                546467.75 546492.50 546567.25 546592.00  \n",
       "group                        NaN       NaN       NaN       NaN  \n",
       "landing_page                 NaN       NaN       NaN       NaN  \n",
       "time_spent_on_the_page      3.88      5.42      7.02     10.71  \n",
       "converted                    NaN       NaN       NaN       NaN  \n",
       "language_preferred           NaN       NaN       NaN       NaN  "
      ]
     },
     "execution_count": 7,
     "metadata": {},
     "output_type": "execute_result"
    }
   ],
   "source": [
    "pd.set_option('display.float_format', lambda x: '%.2f' % x) # To supress numerical display in scientific notations\n",
    "df.describe(include='all').T"
   ]
  },
  {
   "cell_type": "markdown",
   "id": "91a0eced",
   "metadata": {},
   "source": [
    "Observations:\n",
    "* Time spent on landing page ranges from 0.19 to 10.71 minutes, with an average time of 5.38 minutes.\n",
    "* 54 users subscribed to the newsletter.\n",
    "* Most users (34) from the sample prefer spanish language than other languages."
   ]
  },
  {
   "cell_type": "markdown",
   "id": "1fb82934",
   "metadata": {},
   "source": [
    "### Checking for missing values and duplicates"
   ]
  },
  {
   "cell_type": "code",
   "execution_count": 8,
   "id": "09ee51e0",
   "metadata": {},
   "outputs": [
    {
     "data": {
      "text/plain": [
       "user_id                   0\n",
       "group                     0\n",
       "landing_page              0\n",
       "time_spent_on_the_page    0\n",
       "converted                 0\n",
       "language_preferred        0\n",
       "dtype: int64"
      ]
     },
     "execution_count": 8,
     "metadata": {},
     "output_type": "execute_result"
    }
   ],
   "source": [
    "# Let's check for missing values.\n",
    "df.isnull().sum()"
   ]
  },
  {
   "cell_type": "markdown",
   "id": "f6470017",
   "metadata": {},
   "source": [
    "Observations: There are no missing values"
   ]
  },
  {
   "cell_type": "code",
   "execution_count": 9,
   "id": "d2762bbe",
   "metadata": {},
   "outputs": [
    {
     "data": {
      "text/plain": [
       "0"
      ]
     },
     "execution_count": 9,
     "metadata": {},
     "output_type": "execute_result"
    }
   ],
   "source": [
    "# Let's check for duplicates.\n",
    "df.duplicated().sum()"
   ]
  },
  {
   "cell_type": "markdown",
   "id": "0525874f",
   "metadata": {},
   "source": [
    "Observations: There are no duplicates"
   ]
  },
  {
   "cell_type": "markdown",
   "id": "68f3b2c9",
   "metadata": {
    "id": "68f3b2c9"
   },
   "source": [
    "### **Univariate Analysis**"
   ]
  },
  {
   "cell_type": "markdown",
   "id": "1932d0f3",
   "metadata": {
    "id": "1932d0f3"
   },
   "source": [
    "***Let's assess the distribution of the numerical columns.***\n",
    "\n",
    "Note: We do not need to analyze the user_id column as it is uniquely assigned, and do not have any impact on the patterns or relationships between other variables in the dataframe."
   ]
  },
  {
   "cell_type": "markdown",
   "id": "8ac49d16",
   "metadata": {},
   "source": [
    "**Time spent on landing page**"
   ]
  },
  {
   "cell_type": "code",
   "execution_count": 10,
   "id": "3354f8a1",
   "metadata": {},
   "outputs": [
    {
     "data": {
      "image/png": "[encoded data removed]",
      "text/plain": [
       "<Figure size 640x480 with 1 Axes>"
      ]
     },
     "metadata": {},
     "output_type": "display_data"
    }
   ],
   "source": [
    "# Histogram showing the distribution of time spent on landing page\n",
    "sns.histplot(data=df, x='time_spent_on_the_page', kde=True);\n",
    "plt.show()\n",
    "\n",
    "# sns.histplot(data=df, x='time_spent_on_the_page', hue='converted', kde=True);\n",
    "# plt.show()"
   ]
  },
  {
   "cell_type": "code",
   "execution_count": 11,
   "id": "20568d35",
   "metadata": {},
   "outputs": [
    {
     "data": {
      "image/png": "[encoded data removed]",
      "text/plain": [
       "<Figure size 700x300 with 1 Axes>"
      ]
     },
     "metadata": {},
     "output_type": "display_data"
    }
   ],
   "source": [
    "# Box-plot showing the distribution of of time spent on landing page\n",
    "plt.figure(figsize = (7,3))\n",
    "sns.boxplot(data=df,x='time_spent_on_the_page')\n",
    "plt.show()"
   ]
  },
  {
   "cell_type": "markdown",
   "id": "2b316352",
   "metadata": {},
   "source": [
    "Observation: The distribution is approximately normal for the time spent on the landing page"
   ]
  },
  {
   "cell_type": "markdown",
   "id": "1d17c41b",
   "metadata": {},
   "source": [
    "**Landing Page**"
   ]
  },
  {
   "cell_type": "code",
   "execution_count": 12,
   "id": "12b2d2c8",
   "metadata": {},
   "outputs": [
    {
     "name": "stdout",
     "output_type": "stream",
     "text": [
      "old    50\n",
      "new    50\n",
      "Name: landing_page, dtype: int64\n"
     ]
    },
    {
     "data": {
      "image/png": "[encoded data removed]",
      "text/plain": [
       "<Figure size 640x480 with 1 Axes>"
      ]
     },
     "metadata": {},
     "output_type": "display_data"
    }
   ],
   "source": [
    "# Let's see the number of users on the old and new landing pages\n",
    "print(df['landing_page'].value_counts())\n",
    "\n",
    "sns.countplot(data=df,x='landing_page');\n",
    "plt.show()"
   ]
  },
  {
   "cell_type": "markdown",
   "id": "c78a286f",
   "metadata": {},
   "source": [
    "Observation: 50 users each browse through the old and new landing pages"
   ]
  },
  {
   "cell_type": "markdown",
   "id": "1dfc5091",
   "metadata": {},
   "source": [
    "**Preferred Language**"
   ]
  },
  {
   "cell_type": "code",
   "execution_count": 13,
   "id": "e631a4ab",
   "metadata": {},
   "outputs": [
    {
     "name": "stdout",
     "output_type": "stream",
     "text": [
      "Spanish    34\n",
      "French     34\n",
      "English    32\n",
      "Name: language_preferred, dtype: int64\n"
     ]
    },
    {
     "data": {
      "image/png": "[encoded data removed]",
      "text/plain": [
       "<Figure size 640x480 with 1 Axes>"
      ]
     },
     "metadata": {},
     "output_type": "display_data"
    }
   ],
   "source": [
    "# Let's see the distribution of languages preferred by users\n",
    "print(df['language_preferred'].value_counts())\n",
    "\n",
    "sns.countplot(data=df,x='language_preferred');\n",
    "plt.show()"
   ]
  },
  {
   "cell_type": "markdown",
   "id": "8c054146",
   "metadata": {},
   "source": [
    "Observation: Both French and Spanish languages are most preferred by users in the sample data"
   ]
  },
  {
   "cell_type": "markdown",
   "id": "282ad115",
   "metadata": {},
   "source": [
    "**Converted Users**"
   ]
  },
  {
   "cell_type": "code",
   "execution_count": 14,
   "id": "f76a50ac",
   "metadata": {},
   "outputs": [
    {
     "name": "stdout",
     "output_type": "stream",
     "text": [
      "yes    54\n",
      "no     46\n",
      "Name: converted, dtype: int64\n"
     ]
    },
    {
     "data": {
      "image/png": "[encoded data removed]",
      "text/plain": [
       "<Figure size 640x480 with 1 Axes>"
      ]
     },
     "metadata": {},
     "output_type": "display_data"
    }
   ],
   "source": [
    "# Let's see the number of users who converted\n",
    "print(df['converted'].value_counts())\n",
    "\n",
    "sns.countplot(data=df,x='converted');\n",
    "plt.show()"
   ]
  },
  {
   "cell_type": "markdown",
   "id": "7db88bd1",
   "metadata": {},
   "source": [
    "Observation: 54 users subscribed while the remaining 46 maintained the status quo"
   ]
  },
  {
   "cell_type": "markdown",
   "id": "41ace893",
   "metadata": {},
   "source": [
    "**Groupings**"
   ]
  },
  {
   "cell_type": "code",
   "execution_count": 15,
   "id": "7f40a15a",
   "metadata": {},
   "outputs": [
    {
     "name": "stdout",
     "output_type": "stream",
     "text": [
      "control      50\n",
      "treatment    50\n",
      "Name: group, dtype: int64\n"
     ]
    },
    {
     "data": {
      "image/png": "[encoded data removed]",
      "text/plain": [
       "<Figure size 640x480 with 1 Axes>"
      ]
     },
     "metadata": {},
     "output_type": "display_data"
    }
   ],
   "source": [
    "# Let's see the number of users in the control and treatment groups\n",
    "print(df['group'].value_counts())\n",
    "\n",
    "sns.countplot(data=df,x='group');\n",
    "plt.show()"
   ]
  },
  {
   "cell_type": "markdown",
   "id": "f757d759",
   "metadata": {},
   "source": [
    "Observation: 50 users each belong to the treatment and control group as planned by the design team"
   ]
  },
  {
   "cell_type": "markdown",
   "id": "fad2de2f",
   "metadata": {
    "id": "fad2de2f"
   },
   "source": [
    "### Bivariate Analysis"
   ]
  },
  {
   "cell_type": "markdown",
   "id": "e1d3ca50",
   "metadata": {},
   "source": [
    "**Time spent vs Converted**"
   ]
  },
  {
   "cell_type": "code",
   "execution_count": 16,
   "id": "58e9a1d0",
   "metadata": {
    "id": "58e9a1d0"
   },
   "outputs": [
    {
     "data": {
      "image/png": "[encoded data removed]",
      "text/plain": [
       "<Figure size 640x480 with 1 Axes>"
      ]
     },
     "metadata": {},
     "output_type": "display_data"
    }
   ],
   "source": [
    "# Box plot for time spent on landing page (Converted vs Not Converted Users)\n",
    "sns.boxplot(data=df, x='converted', y='time_spent_on_the_page');\n",
    "plt.show()"
   ]
  },
  {
   "cell_type": "markdown",
   "id": "ef87b6c9",
   "metadata": {},
   "source": [
    "**Time spent vs landing page**"
   ]
  },
  {
   "cell_type": "code",
   "execution_count": 17,
   "id": "d730a273",
   "metadata": {},
   "outputs": [
    {
     "data": {
      "image/png": "[encoded data removed]",
      "text/plain": [
       "<Figure size 640x480 with 1 Axes>"
      ]
     },
     "metadata": {},
     "output_type": "display_data"
    }
   ],
   "source": [
    "# Box plot for time spent on landing page (Old vs New landing pages)\n",
    "sns.boxplot(data=df, x='landing_page', y='time_spent_on_the_page');\n",
    "plt.show()"
   ]
  },
  {
   "cell_type": "markdown",
   "id": "aae88cc1",
   "metadata": {},
   "source": [
    "**Time spent vs Preferred Languages**"
   ]
  },
  {
   "cell_type": "code",
   "execution_count": 18,
   "id": "ed661683",
   "metadata": {},
   "outputs": [
    {
     "data": {
      "image/png": "[encoded data removed]",
      "text/plain": [
       "<Figure size 640x480 with 1 Axes>"
      ]
     },
     "metadata": {},
     "output_type": "display_data"
    }
   ],
   "source": [
    "# Box plot for time spent on landing page (Preferred languages)\n",
    "sns.boxplot(data=df, x='language_preferred', y='time_spent_on_the_page');\n",
    "plt.show()"
   ]
  },
  {
   "cell_type": "markdown",
   "id": "27906576",
   "metadata": {
    "id": "27906576"
   },
   "source": [
    "## 1. Do the users spend more time on the new landing page than the existing landing page?"
   ]
  },
  {
   "cell_type": "markdown",
   "id": "e5fdf0c8",
   "metadata": {
    "id": "e5fdf0c8"
   },
   "source": [
    "### Perform Visual Analysis"
   ]
  },
  {
   "cell_type": "code",
   "execution_count": 19,
   "id": "1e192926",
   "metadata": {},
   "outputs": [
    {
     "data": {
      "image/png": "[encoded data removed]",
      "text/plain": [
       "<Figure size 640x480 with 1 Axes>"
      ]
     },
     "metadata": {},
     "output_type": "display_data"
    }
   ],
   "source": [
    "sns.boxplot(data=df, x='landing_page', y='time_spent_on_the_page');\n",
    "plt.show()"
   ]
  },
  {
   "cell_type": "markdown",
   "id": "6eZJa41eg21n",
   "metadata": {
    "id": "6eZJa41eg21n"
   },
   "source": [
    "Observations: \n",
    "* Users spend more time on the new landing page than the existing landing page.\n",
    "* Outliers are present for users browsing the new landing page."
   ]
  },
  {
   "cell_type": "markdown",
   "id": "56b3dafd",
   "metadata": {
    "id": "56b3dafd"
   },
   "source": [
    "### Step 1: Define the null and alternate hypotheses"
   ]
  },
  {
   "cell_type": "markdown",
   "id": "d2ac77ef",
   "metadata": {
    "id": "d2ac77ef"
   },
   "source": [
    "We will test the null hypothesis\n",
    "\n",
    ">$H_0:\\mu_1=\\mu_2$\n",
    "\n",
    "against the alternate hypothesis\n",
    "\n",
    ">$H_a:\\mu_1>\\mu_2$\n",
    "\n",
    "Where $\\mu_1, \\mu_2$ are mean times spent by users on the new and old pages respectively\n"
   ]
  },
  {
   "cell_type": "markdown",
   "id": "c7ee4907",
   "metadata": {
    "id": "c7ee4907"
   },
   "source": [
    "### Step 2: Select Appropriate test"
   ]
  },
  {
   "cell_type": "markdown",
   "id": "2c183cd7",
   "metadata": {
    "id": "2c183cd7"
   },
   "source": [
    "This is a one-tailed test concerning two population means from two independent populations. The population standard deviations are unknown. Based on this information, we select the ***2-sample independent T-test for equality of means***.\n",
    "\n",
    "The assumptions for the T-test in this scenario are as follows:\n",
    "\n",
    "* **Continuous Data**: The data is continuous since the time spent on the landing page is measured on a continuous scale.\n",
    "* **Normally Distributed Populations**: The populations are normally distributed.\n",
    "* **Independent Populations**: The samples come from two independent populations because users for both groups were randomly selected.\n",
    "* **Unequal Population Standard Deviations**: The sample standard deviations are not the same (which will be shown in step 4), leading us to assume that the population standard deviations are also different.\n",
    "* **Random Sampling from population**: Users were chosen randomly for the survey.\n",
    "\n",
    "Based on these points, the assumptions for the T-test are met in this case."
   ]
  },
  {
   "cell_type": "markdown",
   "id": "3f58c9a7",
   "metadata": {
    "id": "3f58c9a7"
   },
   "source": [
    "### Step 3: Decide the significance level"
   ]
  },
  {
   "cell_type": "markdown",
   "id": "92d7d7ee",
   "metadata": {
    "id": "92d7d7ee"
   },
   "source": [
    "As given in the problem statement, we select $\\alpha = 0.05$."
   ]
  },
  {
   "cell_type": "markdown",
   "id": "5fed2eac",
   "metadata": {
    "id": "5fed2eac"
   },
   "source": [
    "### Step 4: Collect and prepare data"
   ]
  },
  {
   "cell_type": "code",
   "execution_count": 20,
   "id": "f5a59495",
   "metadata": {
    "id": "f5a59495"
   },
   "outputs": [
    {
     "name": "stdout",
     "output_type": "stream",
     "text": [
      "Standard deviation for time on new page: 1.82\n",
      "Standard deviation for time on old page: 2.58\n"
     ]
    }
   ],
   "source": [
    "# Data for users on the new landing page\n",
    "new_page_time = df[df['landing_page'] == 'new']['time_spent_on_the_page']\n",
    "\n",
    "# Data for users on the old landing page\n",
    "old_page_time = df[df['landing_page'] == 'old']['time_spent_on_the_page']\n",
    "\n",
    "print('Standard deviation for time on new page:', round(new_page_time.std(), 2))\n",
    "print('Standard deviation for time on old page:', round(old_page_time.std(), 2))"
   ]
  },
  {
   "cell_type": "markdown",
   "id": "25474fb9",
   "metadata": {},
   "source": [
    "Observation: Based on the sample standard deviations of the two groups, the population standard deviations are unequal"
   ]
  },
  {
   "cell_type": "markdown",
   "id": "f5c5258d",
   "metadata": {
    "id": "f5c5258d"
   },
   "source": [
    "### Step 5: Calculate the p-value"
   ]
  },
  {
   "cell_type": "code",
   "execution_count": 21,
   "id": "fac8594a",
   "metadata": {
    "id": "fac8594a"
   },
   "outputs": [
    {
     "name": "stdout",
     "output_type": "stream",
     "text": [
      "The p-value is: 0.0001\n"
     ]
    }
   ],
   "source": [
    "from scipy.stats import ttest_ind\n",
    "\n",
    "# Perform an independent t-test\n",
    "t_stat, p_value = ttest_ind(new_page_time, old_page_time, equal_var=False, alternative='greater')\n",
    "\n",
    "print(\"The p-value is:\", round(p_value,4))"
   ]
  },
  {
   "cell_type": "markdown",
   "id": "359b12f8",
   "metadata": {
    "id": "359b12f8"
   },
   "source": [
    "### Step 6: Compare the p-value with $\\alpha$"
   ]
  },
  {
   "cell_type": "code",
   "execution_count": 22,
   "id": "7be47289",
   "metadata": {
    "id": "7be47289"
   },
   "outputs": [
    {
     "name": "stdout",
     "output_type": "stream",
     "text": [
      "The p-value is less than α. Hence we reject the null hypothesis.\n"
     ]
    }
   ],
   "source": [
    "alpha = 0.05\n",
    "alpha_sign = \"\\u03B1\"  # Unicode for alpha\n",
    "\n",
    "if p_value < alpha:\n",
    "    print(f\"The p-value is less than {alpha_sign}. Hence we reject the null hypothesis.\")\n",
    "else:\n",
    "    print(f\"The p-value is greater than or equal to {alpha_sign}. Hence we fail to reject the null hypothesis.\")\n"
   ]
  },
  {
   "cell_type": "markdown",
   "id": "d9affc84",
   "metadata": {
    "id": "d9affc84"
   },
   "source": [
    "### Step 7:  Draw inference"
   ]
  },
  {
   "cell_type": "markdown",
   "id": "6b16dd4b",
   "metadata": {
    "id": "6b16dd4b"
   },
   "source": [
    "Given that the p-value is below 0.05, we dismiss the null hypothesis. This provides substantial statistical evidence indicating that users spend more time on the new landing page compared to the old landing page."
   ]
  },
  {
   "cell_type": "markdown",
   "id": "1ad0823a",
   "metadata": {
    "id": "1ad0823a"
   },
   "source": [
    "**A similar approach can be followed to answer the other questions.**"
   ]
  },
  {
   "cell_type": "markdown",
   "id": "353e9d24",
   "metadata": {
    "id": "353e9d24"
   },
   "source": [
    "## 2. Is the conversion rate (the proportion of users who visit the landing page and get converted) for the new page greater than the conversion rate for the old page?"
   ]
  },
  {
   "cell_type": "markdown",
   "id": "829c2f17",
   "metadata": {},
   "source": [
    "Let's perform visual analysis"
   ]
  },
  {
   "cell_type": "code",
   "execution_count": 23,
   "id": "b7f52898",
   "metadata": {
    "id": "b7f52898"
   },
   "outputs": [
    {
     "data": {
      "image/png": "[encoded data removed]",
      "text/plain": [
       "<Figure size 1000x500 with 1 Axes>"
      ]
     },
     "metadata": {},
     "output_type": "display_data"
    }
   ],
   "source": [
    "# Constructing contingency table\n",
    "ax = pd.crosstab(df['landing_page'], df['converted'], normalize=True).plot(kind='bar', figsize=(10, 5), stacked=True)\n",
    "ax.legend(loc='upper left')\n",
    "plt.show()\n"
   ]
  },
  {
   "cell_type": "markdown",
   "id": "510d3bee",
   "metadata": {},
   "source": [
    "Findings:\n",
    "\n",
    "* A higher proportion of users who view the new landing page end up subscribing compared to those who view the old landing page.\n",
    "\n",
    "* This suggests that the new landing page has a more effective conversion rate than the old one.\n",
    "\n",
    "* Further analysis is required to determine if this observed difference holds statistical significance"
   ]
  },
  {
   "cell_type": "markdown",
   "id": "e19fbfb6",
   "metadata": {},
   "source": [
    "### Step 1: Define the null and alternate hypotheses"
   ]
  },
  {
   "cell_type": "markdown",
   "id": "30ee143d",
   "metadata": {},
   "source": [
    "We will test the null hypothesis\n",
    "\n",
    ">$H_0:p_n =p_o$\n",
    "\n",
    "against the alternate hypothesis\n",
    "\n",
    ">$H_a:p_n > p_o$\n",
    "\n",
    "Where $p_n$ and $p_o$ are conversion rates of the new and old pages respectively."
   ]
  },
  {
   "cell_type": "markdown",
   "id": "2cfe3e80",
   "metadata": {},
   "source": [
    "### Step 2: Select Appropriate test"
   ]
  },
  {
   "cell_type": "markdown",
   "id": "0960bfd8",
   "metadata": {},
   "source": [
    "This is a one-tailed test concerning two population proportions from two independent populations. Based on this information, we select the ***one-tailed test of 2 proportion Z-test***."
   ]
  },
  {
   "cell_type": "markdown",
   "id": "ee702787",
   "metadata": {},
   "source": [
    "Criteria Assessment:\n",
    "\n",
    "* **Binomial Distribution**: Confirmed. User's status is binary: they either convert to a subscriber or they don't.\n",
    "\n",
    "* **Random Sampling**: Verified. Users have been chosen at random for the study.\n",
    "\n",
    "* **Normal Approximation for Binomial Distribution**: Applicable. For binary outcomes, the Central Limit Theorem takes longer to converge. A common practice is to ensure both np and n(1−p) are at least 10, where n represents the sample size and p denotes the sample proportion."
   ]
  },
  {
   "cell_type": "markdown",
   "id": "9cb36fef",
   "metadata": {},
   "source": [
    "**Criteria Calculations**:\n",
    "\n",
    "1. **For the New Page**:\n",
    "* $np_n$: $50 \\times \\frac{33}{50}$ = 33, which is $\\geq 10$.\n",
    "* $n(1-p_n)$: $50 \\times \\frac{17}{50}$ = 17, which is $\\geq 10$.\n",
    "\n",
    "2. **For the Old Page**:\n",
    "* $np_o$: $50 \\times \\frac{21}{50}$ = 21, which is $\\geq 10$.\n",
    "* $n(1-p_o)$: $50 \\times \\frac{29}{50}$ = 29, which is $\\geq 10$.\n",
    "\n",
    "Both the new and old pages satisfy the criteria for normal approximation.\n",
    "\n"
   ]
  },
  {
   "cell_type": "markdown",
   "id": "be1c610c",
   "metadata": {},
   "source": [
    "### Step 3: Decide the significance level"
   ]
  },
  {
   "cell_type": "markdown",
   "id": "6f8e0052",
   "metadata": {},
   "source": [
    "As given in the problem statement, we select $\\alpha = 0.05$."
   ]
  },
  {
   "cell_type": "markdown",
   "id": "0a1a56ba",
   "metadata": {},
   "source": [
    "### Step 4: Collect and prepare data"
   ]
  },
  {
   "cell_type": "code",
   "execution_count": 24,
   "id": "1ec012ba",
   "metadata": {},
   "outputs": [
    {
     "name": "stdout",
     "output_type": "stream",
     "text": [
      "Converted subscribers: New - 33, Old - 21\n",
      "Total users: New - 50, Old - 50\n"
     ]
    }
   ],
   "source": [
    "# Count of subscribers for NEW and OLD landing pages\n",
    "new_sub = df[df['landing_page'] == 'new'].converted.value_counts().get('yes', 0)\n",
    "old_sub = df[df['landing_page'] == 'old'].converted.value_counts().get('yes', 0)\n",
    "\n",
    "print(f'Converted subscribers: New - {new_sub}, Old - {old_sub}')\n",
    "\n",
    "# Total users for NEW and OLD landing pages\n",
    "new_users = df['landing_page'].value_counts().get('new', 0)\n",
    "old_users = df['landing_page'].value_counts().get('old', 0)\n",
    "\n",
    "print(f'Total users: New - {new_users}, Old - {old_users}')\n"
   ]
  },
  {
   "cell_type": "code",
   "execution_count": 25,
   "id": "61e83af7",
   "metadata": {},
   "outputs": [
    {
     "name": "stdout",
     "output_type": "stream",
     "text": [
      "Conversion rates: New page - 0.66; Old page - 0.42\n"
     ]
    }
   ],
   "source": [
    "print(f'Conversion rates: New page - {round((new_sub/new_users),2)}; Old page - {round((old_sub/old_users),2)}')"
   ]
  },
  {
   "cell_type": "markdown",
   "id": "63121a88",
   "metadata": {},
   "source": [
    "Findings:\n",
    "* After visiting the New Landing page, 66% of users become subscribers.\n",
    "* On the other hand, the Old Landing page sees a 42% subscriber conversion rate."
   ]
  },
  {
   "cell_type": "markdown",
   "id": "3534080d",
   "metadata": {},
   "source": [
    "### Step 5: Calculate the p-value"
   ]
  },
  {
   "cell_type": "code",
   "execution_count": 26,
   "id": "525c0677",
   "metadata": {},
   "outputs": [
    {
     "name": "stdout",
     "output_type": "stream",
     "text": [
      "The p-value is 0.0080\n"
     ]
    }
   ],
   "source": [
    "from statsmodels.stats.proportion import proportions_ztest\n",
    "\n",
    "# Calculate the p-value using proportions_ztest\n",
    "stat, p_val = proportions_ztest([new_sub, old_sub], [new_users, old_users], alternative='larger')\n",
    "\n",
    "# Print the rounded p-value\n",
    "print(f'The p-value is {p_val:.4f}')\n"
   ]
  },
  {
   "cell_type": "markdown",
   "id": "593666d1",
   "metadata": {},
   "source": [
    "### Step 6: Compare the p-value with $\\alpha$"
   ]
  },
  {
   "cell_type": "code",
   "execution_count": 27,
   "id": "1558b7ab",
   "metadata": {},
   "outputs": [
    {
     "name": "stdout",
     "output_type": "stream",
     "text": [
      "With a p-value of 0.008, we have enough evidence to reject the null hypothesis.\n"
     ]
    }
   ],
   "source": [
    "if p_value < 0.05:\n",
    "    print(f'With a p-value of {round(p_val,4)}, we have enough evidence to reject the null hypothesis.')\n",
    "else:\n",
    "    print(f'With a p-value of {round(p_val,4)}, we do not have sufficient evidence to reject the null hypothesis.')"
   ]
  },
  {
   "cell_type": "markdown",
   "id": "0031a7a4",
   "metadata": {},
   "source": [
    "### Step 7:  Draw inference\n",
    "\n",
    "Given that the p-value is below 0.05, we dismiss the null hypothesis. This provides substantial statistical evidence indicating that the conversion rate for users who view the new landing page surpasses that of users who view the old landing page."
   ]
  },
  {
   "cell_type": "markdown",
   "id": "d49bfa2d",
   "metadata": {
    "id": "d49bfa2d"
   },
   "source": [
    "## 3. Is the conversion and preferred language are independent or related?"
   ]
  },
  {
   "cell_type": "markdown",
   "id": "8b17f010",
   "metadata": {},
   "source": [
    "Let's perform visual analysis"
   ]
  },
  {
   "cell_type": "code",
   "execution_count": 28,
   "id": "35794e64",
   "metadata": {},
   "outputs": [
    {
     "data": {
      "image/png": "[encoded data removed]",
      "text/plain": [
       "<Figure size 1400x500 with 1 Axes>"
      ]
     },
     "metadata": {},
     "output_type": "display_data"
    }
   ],
   "source": [
    "# Constructing contingency table\n",
    "ax = pd.crosstab(df['language_preferred'], df['converted'], normalize=True).plot(kind='bar', figsize=(14, 5), stacked=True)\n",
    "ax.legend(loc='upper left')\n",
    "plt.show()\n"
   ]
  },
  {
   "cell_type": "markdown",
   "id": "a149f70a",
   "metadata": {},
   "source": [
    "Findings:\n",
    "\n",
    "* English-preferring users exhibit a higher conversion rate to subscribers compared to other language preferences.\n",
    "\n",
    "* While our sample data indicates that English-speaking users have the highest conversion rate, it's uncertain whether this difference is statistically significant. Thus, we can't definitively state that language preference influences subscription conversion.\n",
    "\n"
   ]
  },
  {
   "cell_type": "markdown",
   "id": "e0b0f9e6",
   "metadata": {},
   "source": [
    "### Step 1: Define the null and alternate hypotheses"
   ]
  },
  {
   "cell_type": "markdown",
   "id": "972fc357",
   "metadata": {},
   "source": [
    "We will test the null hypothesis\n",
    "\n",
    ">$H_0$: Language preference and conversion to subscriber status are independent of each other\n",
    "\n",
    "against the alternate hypothesis\n",
    "\n",
    ">$H_a$: Language preference and conversion to subscriber status are dependent on each other"
   ]
  },
  {
   "cell_type": "markdown",
   "id": "a5c2de78",
   "metadata": {},
   "source": [
    "### Step 2: Select Appropriate test"
   ]
  },
  {
   "cell_type": "markdown",
   "id": "5cb1a6f9",
   "metadata": {},
   "source": [
    "We'll employ the **Chi-square test of independence** to assess the relationship between two categorical variables: language preference (Spanish/English/French) and conversion status (yes/no).\n",
    "\n",
    "Assumptions for the Chi-square Test:\n",
    "\n",
    "* Categorical Variables: Confirmed. Both variables in question are categorical.\n",
    "* Minimum Expected Frequency: Met. Each category has an expected count of more than 5.\n",
    "* Random Sampling: Verified. The data has been randomly sampled from the population."
   ]
  },
  {
   "cell_type": "markdown",
   "id": "ca66345d",
   "metadata": {},
   "source": [
    "### Step 3: Decide the significance level"
   ]
  },
  {
   "cell_type": "markdown",
   "id": "21b0548b",
   "metadata": {},
   "source": [
    "As given in the problem statement, we select $\\alpha = 0.05$."
   ]
  },
  {
   "cell_type": "markdown",
   "id": "b825cc8a",
   "metadata": {},
   "source": [
    "### Step 4: Collect and prepare data"
   ]
  },
  {
   "cell_type": "code",
   "execution_count": 29,
   "id": "63e74673",
   "metadata": {},
   "outputs": [
    {
     "data": {
      "text/html": [
       "<div>\n",
       "<style scoped>\n",
       "    .dataframe tbody tr th:only-of-type {\n",
       "        vertical-align: middle;\n",
       "    }\n",
       "\n",
       "    .dataframe tbody tr th {\n",
       "        vertical-align: top;\n",
       "    }\n",
       "\n",
       "    .dataframe thead th {\n",
       "        text-align: right;\n",
       "    }\n",
       "</style>\n",
       "<table border=\"1\" class=\"dataframe\">\n",
       "  <thead>\n",
       "    <tr style=\"text-align: right;\">\n",
       "      <th>converted</th>\n",
       "      <th>no</th>\n",
       "      <th>yes</th>\n",
       "    </tr>\n",
       "    <tr>\n",
       "      <th>language_preferred</th>\n",
       "      <th></th>\n",
       "      <th></th>\n",
       "    </tr>\n",
       "  </thead>\n",
       "  <tbody>\n",
       "    <tr>\n",
       "      <th>English</th>\n",
       "      <td>11</td>\n",
       "      <td>21</td>\n",
       "    </tr>\n",
       "    <tr>\n",
       "      <th>French</th>\n",
       "      <td>19</td>\n",
       "      <td>15</td>\n",
       "    </tr>\n",
       "    <tr>\n",
       "      <th>Spanish</th>\n",
       "      <td>16</td>\n",
       "      <td>18</td>\n",
       "    </tr>\n",
       "  </tbody>\n",
       "</table>\n",
       "</div>"
      ],
      "text/plain": [
       "converted           no  yes\n",
       "language_preferred         \n",
       "English             11   21\n",
       "French              19   15\n",
       "Spanish             16   18"
      ]
     },
     "execution_count": 29,
     "metadata": {},
     "output_type": "execute_result"
    }
   ],
   "source": [
    "# prepare a contingency table to perform the test\n",
    "contingency_table = pd.crosstab(df.language_preferred, df.converted)\n",
    "contingency_table\n"
   ]
  },
  {
   "cell_type": "markdown",
   "id": "1e425098",
   "metadata": {},
   "source": [
    "### Step 5: Calculate the p-value"
   ]
  },
  {
   "cell_type": "code",
   "execution_count": 30,
   "id": "84fc8fb1",
   "metadata": {},
   "outputs": [
    {
     "name": "stdout",
     "output_type": "stream",
     "text": [
      "Test Statistic = 3.093\n",
      "p-value = 0.213\n",
      "Degrees of freedom = 2\n",
      "Expected frequencies \n",
      " [[14.72 17.28]\n",
      " [15.64 18.36]\n",
      " [15.64 18.36]]\n"
     ]
    }
   ],
   "source": [
    "# import the required test function\n",
    "from scipy.stats import chi2_contingency\n",
    "\n",
    "# calculate the test results\n",
    "chi, p_value3, dof, expected = chi2_contingency(contingency_table)\n",
    "\n",
    "#Round pvalue to 4 significant figures\n",
    "p_value=round(p_value3,4)\n",
    "\n",
    "print(\"Test Statistic =\",round(chi,4))\n",
    "print(\"p-value =\",p_value)\n",
    "print(\"Degrees of freedom =\",dof)\n",
    "print(\"Expected frequencies \\n\", expected)"
   ]
  },
  {
   "cell_type": "markdown",
   "id": "4fab07d5",
   "metadata": {},
   "source": [
    "### Step 6: Compare the p-value with $\\alpha$"
   ]
  },
  {
   "cell_type": "code",
   "execution_count": 31,
   "id": "0a93b7cd",
   "metadata": {},
   "outputs": [
    {
     "name": "stdout",
     "output_type": "stream",
     "text": [
      "Given a p-value of 0.213, we fail to reject the null hypothesis.\n"
     ]
    }
   ],
   "source": [
    "if p_value < 0.05:\n",
    "    print(f'Given a p-value of {p_value}, we have sufficient evidence to reject the null hypothesis.')\n",
    "else:\n",
    "    print(f'Given a p-value of {p_value}, we fail to reject the null hypothesis.')"
   ]
  },
  {
   "cell_type": "markdown",
   "id": "adf28060",
   "metadata": {},
   "source": [
    "### Step 7:  Draw inference\n",
    "\n",
    "At a significance level of 5%, we don't find compelling evidence to reject the notion that user language preference and their conversion to subscriber status are unrelated.\n",
    "\n",
    "Hence, we do not have enough statistical evidence to say that user's conversion to subscriber is dependent on language preferred by user"
   ]
  },
  {
   "cell_type": "markdown",
   "id": "8d585a90",
   "metadata": {
    "id": "8d585a90"
   },
   "source": [
    "## 4. Is the time spent on the new page same for the different language users?"
   ]
  },
  {
   "cell_type": "markdown",
   "id": "12b589e2",
   "metadata": {},
   "source": [
    "Let's perform visual analysis"
   ]
  },
  {
   "cell_type": "code",
   "execution_count": 32,
   "id": "1a8a1dd9",
   "metadata": {},
   "outputs": [],
   "source": [
    "df_new =df[df['landing_page']=='new']"
   ]
  },
  {
   "cell_type": "code",
   "execution_count": 33,
   "id": "e3cda4e2",
   "metadata": {},
   "outputs": [
    {
     "data": {
      "image/png": "[encoded data removed]",
      "text/plain": [
       "<Figure size 640x480 with 1 Axes>"
      ]
     },
     "metadata": {},
     "output_type": "display_data"
    }
   ],
   "source": [
    "# Box plot showing time spent on the new page for users using different languages\n",
    "sns.boxplot(data=df_new, x='language_preferred', y='time_spent_on_the_page');"
   ]
  },
  {
   "cell_type": "markdown",
   "id": "817f43c6",
   "metadata": {},
   "source": [
    "Findings:\n",
    "\n",
    "* There's no apparent substantial variation in the time users spend on the NEW landing page based on their language preferences.\n",
    "\n",
    "* English-speaking users typically have a longer median time on the new page compared to their Spanish and French counterparts. Additionally, their time range on the page is broader.\n",
    "\n",
    "* Spanish-speaking users, on average, spend between 4 to 8 minutes on the new page, though there's an outlier with notably less time.\n",
    "\n",
    "* Further analysis is required to determine the statistical significance of these observed patterns and differences"
   ]
  },
  {
   "cell_type": "markdown",
   "id": "2f07a02e",
   "metadata": {},
   "source": [
    "### Step 1: Define the null and alternate hypotheses"
   ]
  },
  {
   "cell_type": "markdown",
   "id": "fe04b91e",
   "metadata": {},
   "source": [
    "We will test the null hypothesis\n",
    "\n",
    ">$H_0: \\mu_1 = \\mu_2 = \\mu_3$\n",
    "\n",
    "against the alternate hypothesis\n",
    "\n",
    ">$H_a$: The average time spent on the new page varies for at least one of the language groups\n",
    "\n",
    "Where $\\mu_1, \\mu_2$ and $\\mu_3$ are the mean times spent on the new page for users preferring English, French and Spanish respectively"
   ]
  },
  {
   "cell_type": "markdown",
   "id": "12b7b614",
   "metadata": {},
   "source": [
    "### Step 2: Select Appropriate test"
   ]
  },
  {
   "cell_type": "markdown",
   "id": "9d82fe77",
   "metadata": {},
   "source": [
    "We'll employ the **ONE WAY ANOVA TEST** to assess our formulated hypotheses.\n",
    "\n",
    "Before diving in, it's crucial to ensure our data meets certain assumptions:\n",
    "\n",
    "* **Normality**: We'll use the Shapiro-Wilk’s test to verify if our response variable follows a normal distribution.\n",
    "* **Equality of Variance**: The Levene test will help determine if our response variable has consistent variance across groups."
   ]
  },
  {
   "cell_type": "markdown",
   "id": "2d85aa41",
   "metadata": {},
   "source": [
    "### Shapiro-Wilk’s test\n",
    "\n",
    "We will test the null hypothesis\n",
    "\n",
    ">$H_0:$ mean time spent on the new page follows a normal distribution \n",
    "\n",
    "against the alternative hypothesis\n",
    "\n",
    ">$H_a:$ mean time spent on the new page does not follow normal distribution"
   ]
  },
  {
   "cell_type": "code",
   "execution_count": 34,
   "id": "137f6bde",
   "metadata": {},
   "outputs": [
    {
     "name": "stdout",
     "output_type": "stream",
     "text": [
      "The p-value for normality is 0.8040\n"
     ]
    }
   ],
   "source": [
    "# Assumption 1: Checking for Normality\n",
    "from scipy import stats\n",
    "\n",
    "# Calculate the p-value using Shapiro-Wilk’s test\n",
    "w, p_value = stats.shapiro(df_new['time_spent_on_the_page'])\n",
    "print(f'The p-value for normality is {p_value:.4f}')"
   ]
  },
  {
   "cell_type": "markdown",
   "id": "901cda4e",
   "metadata": {},
   "source": [
    "Inference: Since p-value of the test is larger than 0.05, we fail to reject the null hypothesis that the response follows normal distribution."
   ]
  },
  {
   "cell_type": "markdown",
   "id": "a95c21d1",
   "metadata": {},
   "source": [
    "### Levene’s test\n",
    "\n",
    "We will test the null hypothesis\n",
    "\n",
    ">$H_0$: All the population variances are equal\n",
    "\n",
    "against the alternative hypothesis\n",
    "\n",
    ">$H_a$: At least one variance is different from the rest"
   ]
  },
  {
   "cell_type": "code",
   "execution_count": 35,
   "id": "a72e6881",
   "metadata": {},
   "outputs": [
    {
     "name": "stdout",
     "output_type": "stream",
     "text": [
      "The p-value for homogeneity of variance is 0.4671\n"
     ]
    }
   ],
   "source": [
    "# Assumption 2: Checking for Homogeneity of Variance\n",
    "from scipy.stats import levene\n",
    "\n",
    "# Group data by language preference\n",
    "english_time = df_new['time_spent_on_the_page'][df_new['language_preferred'] == \"English\"]\n",
    "spanish_time = df_new['time_spent_on_the_page'][df_new['language_preferred'] == \"Spanish\"]\n",
    "french_time = df_new['time_spent_on_the_page'][df_new['language_preferred'] == \"French\"]\n",
    "\n",
    "# Calculate the p-value using Levene's test\n",
    "statistic, p_value_variance = levene(english_time, spanish_time, french_time)\n",
    "\n",
    "print(f'The p-value for homogeneity of variance is {p_value_variance:.4f}')"
   ]
  },
  {
   "cell_type": "markdown",
   "id": "e17445f4",
   "metadata": {},
   "source": [
    "Inference: Since p-value of the test is larger than 0.05, we fail to reject the null hypothesis of variance homogeneity"
   ]
  },
  {
   "cell_type": "markdown",
   "id": "3a9a23f7",
   "metadata": {},
   "source": [
    "Assumption Verification:\n",
    "\n",
    "* Normality of Populations: Confirmed. The normality assumption is validated using the Shapiro-Wilk’s test.\n",
    "\n",
    "* Independence of Samples: Verified. The samples are independent simple random samples.\n",
    "\n",
    "* Equality of Population Variances: Established. The homogeneity of variance assumption is confirmed using Levene's test.\n",
    "\n",
    "Given the satisfaction of these assumptions, we can proceed with the **one-way ANOVA test**."
   ]
  },
  {
   "cell_type": "markdown",
   "id": "f68c7482",
   "metadata": {},
   "source": [
    "### Step 3: Decide the significance level"
   ]
  },
  {
   "cell_type": "markdown",
   "id": "0f785874",
   "metadata": {},
   "source": [
    "As given in the problem statement, we select $\\alpha = 0.05$."
   ]
  },
  {
   "cell_type": "markdown",
   "id": "89f72c16",
   "metadata": {},
   "source": [
    "### Step 4: Collect and prepare data"
   ]
  },
  {
   "cell_type": "code",
   "execution_count": 36,
   "id": "28ead4a2",
   "metadata": {},
   "outputs": [],
   "source": [
    "# Separate variables for time spent on the new page by language preference\n",
    "english = df_new.loc[df_new['language_preferred'] == 'English', 'time_spent_on_the_page']\n",
    "spanish = df_new.loc[df_new['language_preferred'] == 'Spanish', 'time_spent_on_the_page']\n",
    "french = df_new.loc[df_new['language_preferred'] == 'French', 'time_spent_on_the_page']\n"
   ]
  },
  {
   "cell_type": "markdown",
   "id": "f717bc99",
   "metadata": {},
   "source": [
    "### Step 5: Calculate the p-value"
   ]
  },
  {
   "cell_type": "code",
   "execution_count": 37,
   "id": "f1cc52db",
   "metadata": {},
   "outputs": [
    {
     "name": "stdout",
     "output_type": "stream",
     "text": [
      "The p-value is 0.4320\n"
     ]
    }
   ],
   "source": [
    "# Import the required function\n",
    "from scipy.stats import f_oneway\n",
    "\n",
    "# Calculate the p-value using one-way ANOVA\n",
    "test_statistic, p_value = f_oneway(english, spanish, french)\n",
    "\n",
    "# Print the rounded p-value\n",
    "print(f'The p-value is {p_value:.4f}')\n"
   ]
  },
  {
   "cell_type": "markdown",
   "id": "aa582c3d",
   "metadata": {},
   "source": [
    "### Step 6: Compare the p-value with $\\alpha$"
   ]
  },
  {
   "cell_type": "code",
   "execution_count": 38,
   "id": "f7fdeeff",
   "metadata": {},
   "outputs": [
    {
     "name": "stdout",
     "output_type": "stream",
     "text": [
      "With a p-value of 0.4320, we do not have enough evidence to reject the null hypothesis.\n"
     ]
    }
   ],
   "source": [
    "if p_value < 0.05:\n",
    "    print(f'With a p-value of {p_value:.4f}, we have sufficient evidence to reject the null hypothesis.')\n",
    "else:\n",
    "    print(f'With a p-value of {p_value:.4f}, we do not have enough evidence to reject the null hypothesis.')"
   ]
  },
  {
   "cell_type": "markdown",
   "id": "c7599ac2",
   "metadata": {},
   "source": [
    "### Step 7:  Draw inference\n",
    "\n",
    "Given that the p-value is below 0.05, we fail to reject the null hypothesis. Hence, we do not have enough statistical significance to conclude that the mean time spent on the new landing page is different for users with different language preferences at the 5% significance level."
   ]
  },
  {
   "cell_type": "markdown",
   "id": "3acbc947",
   "metadata": {
    "id": "3acbc947"
   },
   "source": [
    "## Conclusion and Business Recommendations"
   ]
  },
  {
   "cell_type": "markdown",
   "id": "21fb1063",
   "metadata": {
    "id": "21fb1063"
   },
   "source": [
    "Conclusions:\n",
    "* Users spend an average of 6.2 minutes on the new Landing page, while they spend an average of 4.5 minutes on the old Landing Page.\n",
    "\n",
    "* There is strong statistical evidence indicating that users spend more time on the new landing page compared to the old landing page.\n",
    "\n",
    "* The conversion rate to subscribers for users on the new landing page is 66%, whereas it is 42% for the old landing page.\n",
    "\n",
    "* Statistical evidence supports the claim that the conversion rate for users on the new landing page is higher than for users on the old landing page.\n",
    "\n",
    "Business Recommendations:\n",
    "* We recommend adopting the new landing page as the primary landing page for the e-news express service. This change could potentially enhance:\n",
    "     (1) User engagement, leading to increased ad-clicks and higher ad-revenue.\n",
    "     (2) Conversion rates to subscriber status, translating into greater revenue for the e-news service.\n",
    "\n",
    "* The new landing page is suitable for future marketing campaigns designed to attract more users to the e-news service.\n",
    "\n",
    "* The conversion rate for users who prefer English is higher at 66%, outperforming the other languages.\n",
    "\n",
    "Considerations:\n",
    "\n",
    "* Based on the current dataset, there is insufficient statistical evidence to assert that conversion to subscriber status depends on user language preference. Future surveys with larger sample sizes may be needed to explore such a relationship.\n",
    "\n",
    "* Additionally, there is insufficient statistical evidence to conclude that the average time spent on the new landing page varies significantly among users with different language preferences. Further investigation may be necessary."
   ]
  },
  {
   "cell_type": "markdown",
   "id": "U0dAd4i0iCHo",
   "metadata": {
    "id": "U0dAd4i0iCHo"
   },
   "source": [
    "___"
   ]
  }
 ],
 "metadata": {
  "colab": {
   "collapsed_sections": [
    "a6a3d218",
    "6970dd99",
    "9d75cfa2",
    "68f3b2c9",
    "fad2de2f",
    "27906576",
    "e5fdf0c8",
    "56b3dafd",
    "c7ee4907",
    "3f58c9a7",
    "5fed2eac",
    "f5c5258d",
    "359b12f8",
    "d9affc84",
    "353e9d24",
    "d49bfa2d",
    "8d585a90",
    "3acbc947"
   ],
   "name": "ENews_Express_Learner_Notebook_Full_Code v1.1.ipynb",
   "provenance": []
  },
  "kernelspec": {
   "display_name": "Python 3 (ipykernel)",
   "language": "python",
   "name": "python3"
  },
  "language_info": {
   "codemirror_mode": {
    "name": "ipython",
    "version": 3
   },
   "file_extension": ".py",
   "mimetype": "text/x-python",
   "name": "python",
   "nbconvert_exporter": "python",
   "pygments_lexer": "ipython3",
   "version": "3.9.13"
  }
 },
 "nbformat": 4,
 "nbformat_minor": 5
}
